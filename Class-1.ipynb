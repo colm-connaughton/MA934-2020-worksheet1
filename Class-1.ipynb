{
 "cells": [
  {
   "cell_type": "markdown",
   "metadata": {},
   "source": [
    "# MA934 - class 1\n",
    "\n",
    "You should make at least one commit to your repository per computational task below - usually more.\n",
    "\n",
    "\n",
    "## Task 1\n",
    "\n",
    "Make sure that you can run the sample code in main.jl\n",
    "\n",
    "Add a new function to the module MyModule.jl that reads in parameters $\\alpha$ and $n$ and produces a log plot of some samples of the function $$f(x) = x^\\alpha \\, \\log(x)$$\n",
    "at values of $x$ that increase in powers of 2 from 1 to $2^n$. This should only involve minor modifications of the existing code."
   ]
  },
  {
   "cell_type": "markdown",
   "metadata": {},
   "source": [
    "## Task 2\n",
    "\n",
    "Write a new module containing functions that compute the $n^{th}$ term, $a_n$, in the Fibonacci sequence:\n",
    " * Iteratively\n",
    " * Recursively\n",
    " * Using memoization (hint: use Julia's Dict type for the lookup table)\n",
    " \n",
    "The functions should work starting from any given values of $a_1$ and $a_2$.\n",
    "\n",
    "Use the BenchmarkTools.jl package to measure the run-time of each of these functions over a range of values of $n$ and produce a plot to illustrate your results.\n",
    "\n",
    "The recursive function implementation gets slow very quickly - I could only do up to $n=48$ on my laptop. Write a recursion relation for the computational complexity of the recursive version of the task. Solve it to prove that the computational complexity grows exponentially with $n$."
   ]
  },
  {
   "cell_type": "markdown",
   "metadata": {},
   "source": [
    "## Task 3\n",
    "\n",
    "The computational complexity of the naive divide-and-conquer algorithm for matrix multiplication satisfies the functional equation $$F(n) = 8 F(n/2) + 4 (n/2)^2$$ with $F(1)=1$.\n",
    "\n",
    "The corresponding equation for Strassen multiplication is $$F(n) = 7 F(n/2) + 18 (n/2)^2$$ with $F(1)=1$.\n",
    "\n",
    "Solve these recurrence relations explicitly to prove that the computational complexity of the two algorithms are $O(n^3)$ and $O(n^{\\log_2(7)})$ respectively. \n",
    "\n",
    "It is helpful to adopt the change of variables $n=2^p$ with $a_p = F(2^p)$ to obtain linear (albeit inhomogeneous) recursion relations. \n",
    "\n",
    "Some helpful online notes about solving recursion relations can be found at:\n",
    "\n",
    "https://www.tutorialspoint.com/discrete_mathematics/discrete_mathematics_recurrence_relation.htm"
   ]
  },
  {
   "cell_type": "markdown",
   "metadata": {},
   "source": [
    "### Running the code\n",
    "\n",
    "Environments allow you to specify the packages that are required to run your code. Using environments, different projects can use different and possibly incompatible sets of packages without producing conflicts. Dependencies are efficiently managed automatically by the Julia package manager (Pkg). The details of the environment are stored in the files Project.toml and Manifest.toml.\n",
    "\n",
    "You should get in the habit of always creating a new environment for every project and including the  Project.toml and Manifest.toml files in your github repository so that someone else who wants to use your code can recreate your environment. To learn how to create you own environments see __[https://pkgdocs.julialang.org/v1.0/#Creating-your-own-projects-1](https://pkgdocs.julialang.org/v1.0/#Creating-your-own-projects-1)__\n",
    "\n",
    "Here's how to recreate the environment I created for this assignment:"
   ]
  },
  {
   "cell_type": "code",
   "execution_count": null,
   "metadata": {},
   "outputs": [],
   "source": [
    "using Pkg\n",
    "Pkg.activate(\".\")\n",
    "Pkg.instantiate()"
   ]
  },
  {
   "cell_type": "markdown",
   "metadata": {},
   "source": [
    "Since we will be loading external files containing Julia code, we need to tell Julia to add the current directory to its search path. Here's how to do that:"
   ]
  },
  {
   "cell_type": "code",
   "execution_count": null,
   "metadata": {},
   "outputs": [],
   "source": [
    "push!(LOAD_PATH, pwd())"
   ]
  },
  {
   "cell_type": "markdown",
   "metadata": {},
   "source": [
    "For larger projects, rather than writing large amounts of code in notebooks, it much better to organise code into separate files. The functions in these files are then loaded into the notebook as they are needed. The main reasons for this are:\n",
    "* firstly, this helps keep the code organised\n",
    "* secondly, code files are **much** easier to version control in git than notebooks.\n",
    "\n",
    "To run the code contained in ```main.jl``` we use the ```include``` command:"
   ]
  },
  {
   "cell_type": "code",
   "execution_count": null,
   "metadata": {},
   "outputs": [],
   "source": [
    "include(\"main.jl\")"
   ]
  },
  {
   "cell_type": "markdown",
   "metadata": {},
   "source": [
    "This code should have produced some pdf plots in your working directory. Probably only the last one will appear in the notebook."
   ]
  },
  {
   "cell_type": "code",
   "execution_count": null,
   "metadata": {},
   "outputs": [],
   "source": []
  },
  {
   "cell_type": "code",
   "execution_count": null,
   "metadata": {},
   "outputs": [],
   "source": []
  },
  {
   "cell_type": "code",
   "execution_count": null,
   "metadata": {},
   "outputs": [],
   "source": []
  }
 ],
 "metadata": {
  "kernelspec": {
   "display_name": "Julia 1.0.5",
   "language": "julia",
   "name": "julia-1.0"
  },
  "language_info": {
   "file_extension": ".jl",
   "mimetype": "application/julia",
   "name": "julia",
   "version": "1.0.5"
  }
 },
 "nbformat": 4,
 "nbformat_minor": 2
}
